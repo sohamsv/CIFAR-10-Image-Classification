{
  "cells": [
    {
      "cell_type": "code",
      "execution_count": 1,
      "metadata": {
        "id": "L3VtSFCI5KSM"
      },
      "outputs": [],
      "source": [
        "import tensorflow as tf"
      ]
    },
    {
      "cell_type": "code",
      "execution_count": 2,
      "metadata": {
        "id": "BggE0q-j5Oqe"
      },
      "outputs": [],
      "source": [
        "from tensorflow.keras import datasets,layers,models\n",
        "import matplotlib.pyplot as plt\n",
        "import numpy as np"
      ]
    },
    {
      "cell_type": "code",
      "execution_count": 3,
      "metadata": {
        "id": "L05KwR2T5bvq",
        "colab": {
          "base_uri": "https://localhost:8080/"
        },
        "outputId": "8ba000fd-17f6-4122-f0ad-9d1e35d2e037"
      },
      "outputs": [
        {
          "output_type": "stream",
          "name": "stdout",
          "text": [
            "Downloading data from https://www.cs.toronto.edu/~kriz/cifar-10-python.tar.gz\n",
            "170498071/170498071 [==============================] - 6s 0us/step\n"
          ]
        }
      ],
      "source": [
        "(x_train,y_train),(x_test,y_test) = datasets.cifar10.load_data()"
      ]
    },
    {
      "cell_type": "code",
      "execution_count": 4,
      "metadata": {
        "id": "BZIr8Aml5oZT",
        "colab": {
          "base_uri": "https://localhost:8080/"
        },
        "outputId": "ecb24146-2532-4651-cf5e-3636fbfbe8c3"
      },
      "outputs": [
        {
          "output_type": "execute_result",
          "data": {
            "text/plain": [
              "(50000, 32, 32, 3)"
            ]
          },
          "metadata": {},
          "execution_count": 4
        }
      ],
      "source": [
        "x_train.shape"
      ]
    },
    {
      "cell_type": "code",
      "execution_count": 5,
      "metadata": {
        "id": "91i90gA55rA6",
        "colab": {
          "base_uri": "https://localhost:8080/"
        },
        "outputId": "85131030-c645-425b-822d-f319381e34c5"
      },
      "outputs": [
        {
          "output_type": "execute_result",
          "data": {
            "text/plain": [
              "(50000, 1)"
            ]
          },
          "metadata": {},
          "execution_count": 5
        }
      ],
      "source": [
        "y_train.shape"
      ]
    },
    {
      "cell_type": "code",
      "execution_count": 6,
      "metadata": {
        "id": "8CVa0DdR5tFr",
        "colab": {
          "base_uri": "https://localhost:8080/"
        },
        "outputId": "d200d55b-eb94-4d35-e9ef-a4697fc84a52"
      },
      "outputs": [
        {
          "output_type": "execute_result",
          "data": {
            "text/plain": [
              "(10000, 32, 32, 3)"
            ]
          },
          "metadata": {},
          "execution_count": 6
        }
      ],
      "source": [
        "x_test.shape"
      ]
    },
    {
      "cell_type": "code",
      "execution_count": 7,
      "metadata": {
        "id": "lUDQ36EC5uuX",
        "colab": {
          "base_uri": "https://localhost:8080/"
        },
        "outputId": "1b91ea27-7fe4-4ed8-d2a2-d07c47e92c80"
      },
      "outputs": [
        {
          "output_type": "execute_result",
          "data": {
            "text/plain": [
              "array([[6],\n",
              "       [9],\n",
              "       [9],\n",
              "       ...,\n",
              "       [9],\n",
              "       [1],\n",
              "       [1]], dtype=uint8)"
            ]
          },
          "metadata": {},
          "execution_count": 7
        }
      ],
      "source": [
        "y_train"
      ]
    },
    {
      "cell_type": "code",
      "execution_count": 8,
      "metadata": {
        "id": "bFRncLDE5xIr"
      },
      "outputs": [],
      "source": [
        "y_train = y_train.reshape(-1,)"
      ]
    },
    {
      "cell_type": "code",
      "execution_count": 9,
      "metadata": {
        "id": "Jucxglfy5z1p",
        "colab": {
          "base_uri": "https://localhost:8080/"
        },
        "outputId": "d00176d1-323d-46f4-dcbc-c4252d2f4916"
      },
      "outputs": [
        {
          "output_type": "execute_result",
          "data": {
            "text/plain": [
              "(50000,)"
            ]
          },
          "metadata": {},
          "execution_count": 9
        }
      ],
      "source": [
        "y_train.shape"
      ]
    },
    {
      "cell_type": "code",
      "execution_count": 10,
      "metadata": {
        "id": "zN3wNVXb53RX",
        "colab": {
          "base_uri": "https://localhost:8080/"
        },
        "outputId": "dff0b3dc-405e-45fd-c9f4-bb1263086c94"
      },
      "outputs": [
        {
          "output_type": "execute_result",
          "data": {
            "text/plain": [
              "(10000, 1)"
            ]
          },
          "metadata": {},
          "execution_count": 10
        }
      ],
      "source": [
        "y_test.shape"
      ]
    },
    {
      "cell_type": "code",
      "execution_count": 11,
      "metadata": {
        "id": "oxMd4BQS54sh"
      },
      "outputs": [],
      "source": [
        "y_test = y_test.reshape(-1,)"
      ]
    },
    {
      "cell_type": "code",
      "execution_count": 12,
      "metadata": {
        "id": "kixIKCq558Vc",
        "colab": {
          "base_uri": "https://localhost:8080/"
        },
        "outputId": "65ec9bd3-b32f-4c85-9f6e-a281077e8a6f"
      },
      "outputs": [
        {
          "output_type": "execute_result",
          "data": {
            "text/plain": [
              "array([3, 8, 8, ..., 5, 1, 7], dtype=uint8)"
            ]
          },
          "metadata": {},
          "execution_count": 12
        }
      ],
      "source": [
        "y_test"
      ]
    },
    {
      "cell_type": "code",
      "execution_count": 13,
      "metadata": {
        "id": "qeCn7tjl5-CZ",
        "colab": {
          "base_uri": "https://localhost:8080/"
        },
        "outputId": "f23d2b63-27b0-4e92-d857-dbe4452b5478"
      },
      "outputs": [
        {
          "output_type": "execute_result",
          "data": {
            "text/plain": [
              "array([[[ 59,  62,  63],\n",
              "        [ 43,  46,  45],\n",
              "        [ 50,  48,  43],\n",
              "        ...,\n",
              "        [158, 132, 108],\n",
              "        [152, 125, 102],\n",
              "        [148, 124, 103]],\n",
              "\n",
              "       [[ 16,  20,  20],\n",
              "        [  0,   0,   0],\n",
              "        [ 18,   8,   0],\n",
              "        ...,\n",
              "        [123,  88,  55],\n",
              "        [119,  83,  50],\n",
              "        [122,  87,  57]],\n",
              "\n",
              "       [[ 25,  24,  21],\n",
              "        [ 16,   7,   0],\n",
              "        [ 49,  27,   8],\n",
              "        ...,\n",
              "        [118,  84,  50],\n",
              "        [120,  84,  50],\n",
              "        [109,  73,  42]],\n",
              "\n",
              "       ...,\n",
              "\n",
              "       [[208, 170,  96],\n",
              "        [201, 153,  34],\n",
              "        [198, 161,  26],\n",
              "        ...,\n",
              "        [160, 133,  70],\n",
              "        [ 56,  31,   7],\n",
              "        [ 53,  34,  20]],\n",
              "\n",
              "       [[180, 139,  96],\n",
              "        [173, 123,  42],\n",
              "        [186, 144,  30],\n",
              "        ...,\n",
              "        [184, 148,  94],\n",
              "        [ 97,  62,  34],\n",
              "        [ 83,  53,  34]],\n",
              "\n",
              "       [[177, 144, 116],\n",
              "        [168, 129,  94],\n",
              "        [179, 142,  87],\n",
              "        ...,\n",
              "        [216, 184, 140],\n",
              "        [151, 118,  84],\n",
              "        [123,  92,  72]]], dtype=uint8)"
            ]
          },
          "metadata": {},
          "execution_count": 13
        }
      ],
      "source": [
        "x_train[0]"
      ]
    },
    {
      "cell_type": "code",
      "execution_count": 14,
      "metadata": {
        "id": "-jdxNaPb5_Yu",
        "colab": {
          "base_uri": "https://localhost:8080/",
          "height": 176
        },
        "outputId": "f653deae-5a60-4f39-cf68-4c33ba1d9e61"
      },
      "outputs": [
        {
          "output_type": "execute_result",
          "data": {
            "text/plain": [
              "<matplotlib.image.AxesImage at 0x7f7d87024b20>"
            ]
          },
          "metadata": {},
          "execution_count": 14
        },
        {
          "output_type": "display_data",
          "data": {
            "text/plain": [
              "<Figure size 864x144 with 1 Axes>"
            ],
            "image/png": "[encoded data removed]"
          },
          "metadata": {
            "needs_background": "light"
          }
        }
      ],
      "source": [
        "plt.figure(figsize=(12,2))\n",
        "plt.imshow(x_train[0])"
      ]
    },
    {
      "cell_type": "code",
      "execution_count": 15,
      "metadata": {
        "id": "oBdj1RGf6DJ-",
        "colab": {
          "base_uri": "https://localhost:8080/",
          "height": 176
        },
        "outputId": "e7d08195-5511-4ac0-a069-8a033bfab21d"
      },
      "outputs": [
        {
          "output_type": "execute_result",
          "data": {
            "text/plain": [
              "<matplotlib.image.AxesImage at 0x7f7d86fa2a90>"
            ]
          },
          "metadata": {},
          "execution_count": 15
        },
        {
          "output_type": "display_data",
          "data": {
            "text/plain": [
              "<Figure size 864x144 with 1 Axes>"
            ],
            "image/png": "[encoded data removed]"
          },
          "metadata": {
            "needs_background": "light"
          }
        }
      ],
      "source": [
        "plt.figure(figsize=(12,2))\n",
        "plt.imshow(x_train[1])"
      ]
    },
    {
      "cell_type": "code",
      "execution_count": 16,
      "metadata": {
        "id": "fPm1g4-S6L3I",
        "colab": {
          "base_uri": "https://localhost:8080/"
        },
        "outputId": "58039555-7e2f-4f25-e66e-b4a1b57e195f"
      },
      "outputs": [
        {
          "output_type": "execute_result",
          "data": {
            "text/plain": [
              "array([6, 9, 9, ..., 9, 1, 1], dtype=uint8)"
            ]
          },
          "metadata": {},
          "execution_count": 16
        }
      ],
      "source": [
        "y_train"
      ]
    },
    {
      "cell_type": "code",
      "execution_count": 17,
      "metadata": {
        "id": "e5J1PxX16OLg"
      },
      "outputs": [],
      "source": [
        "ann = models.Sequential([layers.Flatten(input_shape=(32,32,3)),layers.Dense(4000,activation='relu'),layers.Dense(2000,activation='relu'),layers.Dense(10,activation='sigmoid')])"
      ]
    },
    {
      "cell_type": "code",
      "execution_count": 18,
      "metadata": {
        "id": "xMEvX2Zq6fgp"
      },
      "outputs": [],
      "source": [
        "ann.compile(optimizer='adam',loss='sparse_categorical_crossentropy',metrics=['accuracy'])"
      ]
    },
    {
      "cell_type": "code",
      "execution_count": 19,
      "metadata": {
        "colab": {
          "base_uri": "https://localhost:8080/"
        },
        "id": "FhdT0XQI7H0O",
        "outputId": "90b7f49c-9fd3-4fda-b77e-6d46dd76bc7a"
      },
      "outputs": [
        {
          "output_type": "stream",
          "name": "stdout",
          "text": [
            "Epoch 1/10\n",
            "1563/1563 [==============================] - 224s 143ms/step - loss: 28.6433 - accuracy: 0.1048\n",
            "Epoch 2/10\n",
            "1563/1563 [==============================] - 220s 141ms/step - loss: 2.3038 - accuracy: 0.0990\n",
            "Epoch 3/10\n",
            "1563/1563 [==============================] - 222s 142ms/step - loss: 2.3027 - accuracy: 0.1007\n",
            "Epoch 4/10\n",
            "1563/1563 [==============================] - 217s 139ms/step - loss: 2.3030 - accuracy: 0.0971\n",
            "Epoch 5/10\n",
            "1563/1563 [==============================] - 215s 138ms/step - loss: 2.3027 - accuracy: 0.0981\n",
            "Epoch 6/10\n",
            "1563/1563 [==============================] - 215s 137ms/step - loss: 2.3027 - accuracy: 0.0975\n",
            "Epoch 7/10\n",
            "1563/1563 [==============================] - 216s 138ms/step - loss: 2.3027 - accuracy: 0.0973\n",
            "Epoch 8/10\n",
            "1563/1563 [==============================] - 230s 147ms/step - loss: 2.3026 - accuracy: 0.0995\n",
            "Epoch 9/10\n",
            "1563/1563 [==============================] - 236s 151ms/step - loss: 2.3026 - accuracy: 0.0982\n",
            "Epoch 10/10\n",
            "1563/1563 [==============================] - 234s 150ms/step - loss: 2.3027 - accuracy: 0.0981\n"
          ]
        },
        {
          "output_type": "execute_result",
          "data": {
            "text/plain": [
              "<keras.callbacks.History at 0x7f7d824bd130>"
            ]
          },
          "metadata": {},
          "execution_count": 19
        }
      ],
      "source": [
        "ann.fit(x_train,y_train,epochs=10)"
      ]
    },
    {
      "cell_type": "code",
      "execution_count": 20,
      "metadata": {
        "id": "EGUJVguN_6RF"
      },
      "outputs": [],
      "source": [
        "### build a cnn\n",
        "cnn = models.Sequential([layers.Conv2D(filters=64,kernel_size=(3,3),activation='relu',input_shape=(32,32,3)),\n",
        "                         layers.MaxPooling2D(2,2),layers.Conv2D(filters=32,kernel_size=(3,3),activation='relu'),\n",
        "                        layers.MaxPooling2D(2,2),layers.Dropout(0.2),layers.Flatten(),layers.Dense(256,activation='relu'),\n",
        "              layers.Dense(128,activation='relu'),\n",
        "                         layers.Dense(64,activation='relu'),\n",
        "                        layers.Dense(32,activation='relu'),\n",
        "                        layers.Dense(10,activation='softmax')])"
      ]
    },
    {
      "cell_type": "code",
      "execution_count": 21,
      "metadata": {
        "id": "6SG2-ci5COl4"
      },
      "outputs": [],
      "source": [
        "cnn.compile(optimizer='adam',loss='sparse_categorical_crossentropy',metrics=['accuracy'])"
      ]
    },
    {
      "cell_type": "code",
      "execution_count": 22,
      "metadata": {
        "id": "W_ToiwS7lGbp"
      },
      "outputs": [],
      "source": [
        "x_train = x_train/255\n",
        "x_test = x_test/255"
      ]
    },
    {
      "cell_type": "code",
      "execution_count": 23,
      "metadata": {
        "id": "jKprStBWCzvl",
        "colab": {
          "base_uri": "https://localhost:8080/"
        },
        "outputId": "5ddf6e21-5da7-4e42-842f-9ac92b033dca"
      },
      "outputs": [
        {
          "output_type": "stream",
          "name": "stdout",
          "text": [
            "Epoch 1/15\n",
            "1563/1563 [==============================] - 94s 59ms/step - loss: 1.5588 - accuracy: 0.4260\n",
            "Epoch 2/15\n",
            "1563/1563 [==============================] - 93s 59ms/step - loss: 1.2146 - accuracy: 0.5686\n",
            "Epoch 3/15\n",
            "1563/1563 [==============================] - 92s 59ms/step - loss: 1.0574 - accuracy: 0.6277\n",
            "Epoch 4/15\n",
            "1563/1563 [==============================] - 93s 60ms/step - loss: 0.9440 - accuracy: 0.6673\n",
            "Epoch 5/15\n",
            "1563/1563 [==============================] - 92s 59ms/step - loss: 0.8666 - accuracy: 0.6938\n",
            "Epoch 6/15\n",
            "1563/1563 [==============================] - 92s 59ms/step - loss: 0.8008 - accuracy: 0.7185\n",
            "Epoch 7/15\n",
            "1563/1563 [==============================] - 94s 60ms/step - loss: 0.7373 - accuracy: 0.7397\n",
            "Epoch 8/15\n",
            "1563/1563 [==============================] - 92s 59ms/step - loss: 0.6863 - accuracy: 0.7597\n",
            "Epoch 9/15\n",
            "1563/1563 [==============================] - 93s 59ms/step - loss: 0.6393 - accuracy: 0.7755\n",
            "Epoch 10/15\n",
            "1563/1563 [==============================] - 92s 59ms/step - loss: 0.6031 - accuracy: 0.7863\n",
            "Epoch 11/15\n",
            "1563/1563 [==============================] - 94s 60ms/step - loss: 0.5646 - accuracy: 0.8013\n",
            "Epoch 12/15\n",
            "1563/1563 [==============================] - 92s 59ms/step - loss: 0.5363 - accuracy: 0.8108\n",
            "Epoch 13/15\n",
            "1563/1563 [==============================] - 94s 60ms/step - loss: 0.5074 - accuracy: 0.8198\n",
            "Epoch 14/15\n",
            "1563/1563 [==============================] - 92s 59ms/step - loss: 0.4797 - accuracy: 0.8316\n",
            "Epoch 15/15\n",
            "1563/1563 [==============================] - 92s 59ms/step - loss: 0.4604 - accuracy: 0.8383\n"
          ]
        },
        {
          "output_type": "execute_result",
          "data": {
            "text/plain": [
              "<keras.callbacks.History at 0x7f7d7ecf8130>"
            ]
          },
          "metadata": {},
          "execution_count": 23
        }
      ],
      "source": [
        "cnn.fit(x_train,y_train,epochs=15)"
      ]
    },
    {
      "cell_type": "code",
      "execution_count": 24,
      "metadata": {
        "id": "HgqD-ns-I65t",
        "colab": {
          "base_uri": "https://localhost:8080/"
        },
        "outputId": "75ca916d-0d24-4307-f5a2-244bc7a1d73a"
      },
      "outputs": [
        {
          "output_type": "stream",
          "name": "stdout",
          "text": [
            "313/313 [==============================] - 5s 15ms/step\n"
          ]
        }
      ],
      "source": [
        "y_pred = cnn.predict(x_test)"
      ]
    },
    {
      "cell_type": "code",
      "execution_count": 25,
      "metadata": {
        "id": "C3IwFdh8JjYW",
        "colab": {
          "base_uri": "https://localhost:8080/"
        },
        "outputId": "1a0bd083-e55d-417c-d076-27768799d617"
      },
      "outputs": [
        {
          "output_type": "execute_result",
          "data": {
            "text/plain": [
              "array([[2.4643043e-04, 1.3025387e-04, 1.0815844e-04, ..., 1.8802336e-04,\n",
              "        1.5587171e-05, 1.7947954e-04],\n",
              "       [1.6849391e-02, 7.8018403e-01, 1.9954982e-04, ..., 2.7429141e-05,\n",
              "        1.9174641e-01, 1.0934705e-02],\n",
              "       [9.0181090e-02, 7.5361609e-02, 7.9736277e-04, ..., 4.5892544e-04,\n",
              "        8.1676310e-01, 1.5071779e-02],\n",
              "       ...,\n",
              "       [8.2777784e-05, 2.8195744e-04, 3.8890056e-02, ..., 1.6405950e-01,\n",
              "        1.2759830e-05, 3.2009711e-04],\n",
              "       [2.0275796e-03, 3.0340943e-01, 4.7234216e-04, ..., 1.7268003e-03,\n",
              "        4.4538715e-06, 5.4696822e-03],\n",
              "       [3.3560972e-09, 6.1276184e-10, 2.4018686e-07, ..., 9.9996406e-01,\n",
              "        6.3592337e-10, 4.9143772e-08]], dtype=float32)"
            ]
          },
          "metadata": {},
          "execution_count": 25
        }
      ],
      "source": [
        "y_pred"
      ]
    },
    {
      "cell_type": "code",
      "execution_count": 26,
      "metadata": {
        "id": "xPfz8ajGJmS0"
      },
      "outputs": [],
      "source": [
        "y_pred = np.argmax(y_pred,axis=1)"
      ]
    },
    {
      "cell_type": "code",
      "execution_count": 27,
      "metadata": {
        "id": "0U8AIYqkJzjb",
        "colab": {
          "base_uri": "https://localhost:8080/"
        },
        "outputId": "850fc141-7ec4-41fe-9343-b10b3a7aa4cf"
      },
      "outputs": [
        {
          "output_type": "stream",
          "name": "stdout",
          "text": [
            "              precision    recall  f1-score   support\n",
            "\n",
            "           0       0.72      0.76      0.74      1000\n",
            "           1       0.74      0.89      0.81      1000\n",
            "           2       0.59      0.66      0.62      1000\n",
            "           3       0.53      0.56      0.54      1000\n",
            "           4       0.68      0.62      0.65      1000\n",
            "           5       0.67      0.55      0.60      1000\n",
            "           6       0.81      0.78      0.79      1000\n",
            "           7       0.82      0.71      0.76      1000\n",
            "           8       0.85      0.78      0.81      1000\n",
            "           9       0.73      0.82      0.77      1000\n",
            "\n",
            "    accuracy                           0.71     10000\n",
            "   macro avg       0.71      0.71      0.71     10000\n",
            "weighted avg       0.71      0.71      0.71     10000\n",
            "\n"
          ]
        }
      ],
      "source": [
        "from sklearn.metrics import classification_report\n",
        "print(classification_report(y_test,y_pred))"
      ]
    }
  ],
  "metadata": {
    "colab": {
      "provenance": []
    },
    "kernelspec": {
      "display_name": "Python 3",
      "language": "python",
      "name": "python3"
    },
    "language_info": {
      "codemirror_mode": {
        "name": "ipython",
        "version": 3
      },
      "file_extension": ".py",
      "mimetype": "text/x-python",
      "name": "python",
      "nbconvert_exporter": "python",
      "pygments_lexer": "ipython3",
      "version": "3.9.4"
    }
  },
  "nbformat": 4,
  "nbformat_minor": 0
}